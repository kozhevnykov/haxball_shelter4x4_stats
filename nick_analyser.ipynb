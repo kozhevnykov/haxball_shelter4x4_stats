{
 "cells": [
  {
   "cell_type": "code",
   "execution_count": 1,
   "id": "f0f425a8",
   "metadata": {},
   "outputs": [],
   "source": [
    "import os\n",
    "import re\n",
    "import sys\n",
    "\n",
    "def processing_nick(line):\n",
    "    betterlogs = re.compile(\"(?:\\d+\\.?){3} \\d+:\\d+:\\d+.\\d : 💡 BetterLogs: Joined player.* id: (\\d+), name: (.*), ip: \\d{1,3}\\.\\d{1,3}\\.\\d{1,3}\\.\\d{1,3}, auth: (.+)\")\n",
    "    if betterlogs.match(line):\n",
    "        nick = betterlogs.match(line).group(2)\n",
    "        id = betterlogs.match(line).group(3)\n",
    "        \n",
    "        if id not in players.keys():\n",
    "            players[id] = {nick : 1}\n",
    "        else:\n",
    "            if nick in players[id].keys():\n",
    "                players[id][nick] += 1\n",
    "            else:\n",
    "                players[id][nick] = 1\n",
    "\n",
    "global stats\n",
    "players = {}\n",
    "\n",
    "folder = 'dataHAX/all_files/'\n",
    "for filename in os.listdir(folder):\n",
    "    f = os.path.join(folder, filename)\n",
    "    # day_nick[filename] = 0\n",
    "    with open(f, 'r', encoding='utf-8') as file:\n",
    "        for line in file:\n",
    "            processing_nick(line)\n",
    "players"
   ]
  },
  {
   "cell_type": "code",
   "execution_count": 2,
   "id": "7ad1f206",
   "metadata": {},
   "outputs": [],
   "source": [
    "import operator\n",
    "\n",
    "users = {}\n",
    "uid = 0\n",
    "\n",
    "for k,v in dict(sorted(players.items(), key=lambda item: sum(item[1].values()), reverse=True)).items():\n",
    "    #print(max(v.items(), key=operator.itemgetter(1))[0], sum(v.values()))\n",
    "    if max(v.items(), key=operator.itemgetter(1))[0] not in users.keys():\n",
    "        users[max(v.items(), key=operator.itemgetter(1))[0]] = {\n",
    "            'idkeys' : [k],\n",
    "            'visits' : sum(v.values())\n",
    "        }\n",
    "    else:\n",
    "        users[max(v.items(), key=operator.itemgetter(1))[0]]['idkeys'].append(k)\n",
    "        users[max(v.items(), key=operator.itemgetter(1))[0]]['visits'] += sum(v.values())\n",
    "    if sum(v.values()) < 20:\n",
    "        break\n",
    "\n",
    "sorted(users.items(), key = lambda item : item[1]['visits'], reverse=True)"
   ]
  },
  {
   "cell_type": "code",
   "execution_count": 23,
   "id": "4b536af2",
   "metadata": {},
   "outputs": [],
   "source": [
    "# nick + times enter Shelter\n",
    "# dict(sorted(players.items(), key=lambda item: sum(item[1].values()), reverse=True))"
   ]
  },
  {
   "cell_type": "code",
   "execution_count": null,
   "id": "997c2b2e",
   "metadata": {},
   "outputs": [],
   "source": []
  }
 ],
 "metadata": {
  "kernelspec": {
   "display_name": "Python 3 (ipykernel)",
   "language": "python",
   "name": "python3"
  },
  "language_info": {
   "codemirror_mode": {
    "name": "ipython",
    "version": 3
   },
   "file_extension": ".py",
   "mimetype": "text/x-python",
   "name": "python",
   "nbconvert_exporter": "python",
   "pygments_lexer": "ipython3",
   "version": "3.9.13"
  }
 },
 "nbformat": 4,
 "nbformat_minor": 5
}
