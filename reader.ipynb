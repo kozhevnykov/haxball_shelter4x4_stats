{
 "cells": [
  {
   "cell_type": "code",
   "execution_count": 1,
   "id": "5d93c44d",
   "metadata": {},
   "outputs": [
    {
     "name": "stdout",
     "output_type": "stream",
     "text": [
      "96\n"
     ]
    }
   ],
   "source": [
    "# голы по нику \n",
    "\n",
    "import os\n",
    "folder = 'dataHAX/data/'\n",
    "\n",
    "\n",
    "goals = 0\n",
    "for filename in os.listdir(folder):\n",
    "    f = os.path.join(folder, filename)\n",
    "    row = 0\n",
    "    with open(f, 'r', encoding='utf-8') as file:\n",
    "        for line in file:\n",
    "            row += 1\n",
    "            if '⚽корж' in line and \"Автогол\" not in line: \n",
    "                #print(line, end=\"\")\n",
    "                goals += 1\n",
    "print(goals)"
   ]
  },
  {
   "cell_type": "code",
   "execution_count": 3,
   "id": "9f19fc5a",
   "metadata": {},
   "outputs": [
    {
     "name": "stdout",
     "output_type": "stream",
     "text": [
      "1065\n"
     ]
    }
   ],
   "source": [
    "# list of names\n",
    "\n",
    "import os\n",
    "import re\n",
    "\n",
    "\n",
    "folder = 'dataHAX/data/'\n",
    "\n",
    "pattern = re.compile(\"^([A-Z][0-9]+)+$\")\n",
    "pattern.match(\"hey\")\n",
    "\n",
    "names = set()\n",
    "\n",
    "for filename in os.listdir(folder):\n",
    "    f = os.path.join(folder, filename)\n",
    "    with open(f, 'r', encoding='utf-8') as file:\n",
    "        for line in file:\n",
    "            result = re.findall(r'⚽([^←]*)', line)\n",
    "            if result:\n",
    "                names.add(result[0].replace(\"\\n\",\"\").strip())\n",
    "print(len(names))    "
   ]
  },
  {
   "cell_type": "code",
   "execution_count": 38,
   "id": "6c916aa7",
   "metadata": {},
   "outputs": [
    {
     "name": "stdout",
     "output_type": "stream",
     "text": [
      "<re.Match object; span=(0, 80), match='30.09.202:22:28.7 : 📢 : 🔵 Гол для синих! | 11:4 –>\n"
     ]
    }
   ],
   "source": [
    "import re\n",
    "\n",
    "\n",
    "pattern = re.compile(\"^.*⚽(.*)[\\s←\\s.*]?$\")\n",
    "print(pattern.match(\"30.09.2022 00:22:28.7 : 📢 : 🔵 Гол для синих! | 11:4 – 12:56 | ⚽пас не дал хуй соснул\"))"
   ]
  },
  {
   "cell_type": "code",
   "execution_count": 41,
   "id": "93c52697",
   "metadata": {},
   "outputs": [
    {
     "name": "stdout",
     "output_type": "stream",
     "text": [
      "['zxcursed ']\n"
     ]
    }
   ],
   "source": [
    "result = re.findall(r'⚽([^←]*)', '29.09.2022 08:37:43.3 : 📢 : 🔵 Гол для синих! | 0:1 – 00:06 | Автогол | ⚽zxcursed ← gr0nback👟')\n",
    "print (result)\n"
   ]
  },
  {
   "cell_type": "code",
   "execution_count": 4,
   "id": "6315fcbd",
   "metadata": {},
   "outputs": [],
   "source": [
    "# scores \n",
    "\n",
    "import os\n",
    "folder = 'dataHAX/data/'\n",
    "scores = {}\n",
    "\n",
    "for name in names:\n",
    "    goals = 0\n",
    "    for filename in os.listdir(folder):\n",
    "        f = os.path.join(folder, filename)\n",
    "        row = 0\n",
    "        with open(f, 'r', encoding='utf-8') as file:\n",
    "            for line in file:\n",
    "                row += 1\n",
    "                if '⚽'+name in line and \"Автогол\" not in line: \n",
    "                    goals += 1\n",
    "    ##if goals > 50:\n",
    "    ##    print(name, goals)\n",
    "    scores[name] = goals\n",
    "\n",
    "#sorting of bombardis    \n",
    "for k,v in sorted(scores.items(), key=lambda p:p[1], reverse=True):\n",
    "    pass\n",
    "    # print(k,v)"
   ]
  },
  {
   "cell_type": "code",
   "execution_count": null,
   "id": "5da1fc9e",
   "metadata": {},
   "outputs": [],
   "source": []
  }
 ],
 "metadata": {
  "kernelspec": {
   "display_name": "Python 3 (ipykernel)",
   "language": "python",
   "name": "python3"
  },
  "language_info": {
   "codemirror_mode": {
    "name": "ipython",
    "version": 3
   },
   "file_extension": ".py",
   "mimetype": "text/x-python",
   "name": "python",
   "nbconvert_exporter": "python",
   "pygments_lexer": "ipython3",
   "version": "3.9.13"
  }
 },
 "nbformat": 4,
 "nbformat_minor": 5
}
